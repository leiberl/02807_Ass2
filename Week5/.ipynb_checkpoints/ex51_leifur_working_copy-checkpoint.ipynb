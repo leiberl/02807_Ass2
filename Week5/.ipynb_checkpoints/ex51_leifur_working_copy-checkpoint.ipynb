{
 "cells": [
  {
   "cell_type": "code",
   "execution_count": null,
   "metadata": {
    "collapsed": true
   },
   "outputs": [],
   "source": [
    "import sqlite3\n",
    "\n",
    "def connect(sqlite_file):\n",
    "    \"\"\" Make connection to an SQLite database file \"\"\"\n",
    "    conn = sqlite3.connect(sqlite_file)\n",
    "    c = conn.cursor()\n",
    "    return conn, c\n",
    "\n",
    "def close(conn):\n",
    "    \"\"\" Commit changes and close connection to the database \"\"\"\n",
    "    # conn.commit()\n",
    "    conn.close()\n",
    "\n",
    "def total_rows(cursor, table_name, print_out=False):\n",
    "    \"\"\" Returns the total number of rows in the database \"\"\"\n",
    "    c.execute('SELECT COUNT(*) FROM {}'.format(table_name))\n",
    "    count = c.fetchall()\n",
    "    if print_out:\n",
    "        print('\\nTotal rows: {}'.format(count[0][0]))\n",
    "    return count[0][0]\n",
    "\n",
    "def table_col_info(cursor, table_name, print_out=False):\n",
    "    \"\"\" \n",
    "       Returns a list of tuples with column informations:\n",
    "      (id, name, type, notnull, default_value, primary_key)\n",
    "    \n",
    "    \"\"\"\n",
    "    c.execute('PRAGMA TABLE_INFO({})'.format(table_name))\n",
    "    info = c.fetchall()\n",
    "\n",
    "    if print_out:\n",
    "        print(\"\\nColumn Info:\\nID, Name, Type, NotNull, DefaultVal, PrimaryKey\")\n",
    "        for col in info:\n",
    "            print(col)\n",
    "    return info"
   ]
  }
 ],
 "metadata": {
  "kernelspec": {
   "display_name": "Python 2",
   "language": "python",
   "name": "python2"
  },
  "language_info": {
   "codemirror_mode": {
    "name": "ipython",
    "version": 2
   },
   "file_extension": ".py",
   "mimetype": "text/x-python",
   "name": "python",
   "nbconvert_exporter": "python",
   "pygments_lexer": "ipython2",
   "version": "2.7.9"
  }
 },
 "nbformat": 4,
 "nbformat_minor": 0
}
