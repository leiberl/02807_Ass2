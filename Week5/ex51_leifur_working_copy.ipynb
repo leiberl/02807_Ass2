{
 "cells": [
  {
   "cell_type": "code",
   "execution_count": 36,
   "metadata": {
    "collapsed": false
   },
   "outputs": [
    {
     "name": "stdout",
     "output_type": "stream",
     "text": [
      "[(u'Categories',), (u'sqlite_sequence',), (u'CustomerCustomerDemo',), (u'CustomerDemographics',), (u'Customers',), (u'Employees',), (u'EmployeeTerritories',), (u'Order Details',), (u'Orders',), (u'Products',), (u'Regions',), (u'Shippers',), (u'Suppliers',), (u'Territories',), (u'stocks',)]\n"
     ]
    }
   ],
   "source": [
    "import sqlite3\n",
    "\n",
    "sqlite_file = 'northwind.db'    # name of the sqlite database file\n",
    "\n",
    "# Connecting to the database file\n",
    "conn = sqlite3.connect(sqlite_file)\n",
    "c = conn.cursor()\n",
    "\n",
    "# 1) Contents of all columns for row that match a certain value in 1 column\n",
    "c.execute(\"SELECT name FROM sqlite_master WHERE type = 'table'\")\n",
    "\n",
    "print(c.fetchall())"
   ]
  },
  {
   "cell_type": "code",
   "execution_count": null,
   "metadata": {
    "collapsed": true
   },
   "outputs": [],
   "source": []
  }
 ],
 "metadata": {
  "kernelspec": {
   "display_name": "Python 2",
   "language": "python",
   "name": "python2"
  },
  "language_info": {
   "codemirror_mode": {
    "name": "ipython",
    "version": 2
   },
   "file_extension": ".py",
   "mimetype": "text/x-python",
   "name": "python",
   "nbconvert_exporter": "python",
   "pygments_lexer": "ipython2",
   "version": "2.7.9"
  }
 },
 "nbformat": 4,
 "nbformat_minor": 0
}
