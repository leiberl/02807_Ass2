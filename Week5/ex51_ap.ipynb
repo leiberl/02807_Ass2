{
 "cells": [
  {
   "cell_type": "markdown",
   "metadata": {},
   "source": [
    "# Exercise 5.1a"
   ]
  },
  {
   "cell_type": "code",
   "execution_count": 1,
   "metadata": {
    "collapsed": true
   },
   "outputs": [],
   "source": [
    "import sqlite3"
   ]
  },
  {
   "cell_type": "code",
   "execution_count": 9,
   "metadata": {
    "collapsed": true
   },
   "outputs": [],
   "source": [
    "conn = sqlite3.connect('northwind.db')\n",
    "conn"
   ]
  },
  {
   "cell_type": "code",
   "execution_count": 11,
   "metadata": {
    "collapsed": false
   },
   "outputs": [
    {
     "name": "stdout",
     "output_type": "stream",
     "text": [
      "<sqlite3.Cursor object at 0x7f4d6cb876c0>\n"
     ]
    }
   ],
   "source": [
    "c = conn.cursor()\n",
    "print c"
   ]
  },
  {
   "cell_type": "code",
   "execution_count": 13,
   "metadata": {
    "collapsed": false
   },
   "outputs": [
    {
     "data": {
      "text/plain": [
       "<sqlite3.Cursor at 0x7f4d6cb876c0>"
      ]
     },
     "execution_count": 13,
     "metadata": {},
     "output_type": "execute_result"
    }
   ],
   "source": [
    "c.execute(\"SELECT name FROM sqlite_master WHERE type='table';\")"
   ]
  },
  {
   "cell_type": "code",
   "execution_count": 14,
   "metadata": {
    "collapsed": false
   },
   "outputs": [
    {
     "name": "stdout",
     "output_type": "stream",
     "text": [
      "[(u'Categories',), (u'sqlite_sequence',), (u'CustomerCustomerDemo',), (u'CustomerDemographics',), (u'Customers',), (u'Employees',), (u'EmployeeTerritories',), (u'Order Details',), (u'Orders',), (u'Products',), (u'Regions',), (u'Shippers',), (u'Suppliers',), (u'Territories',), (u'stocks',)]\n"
     ]
    }
   ],
   "source": [
    "print(c.fetchall())"
   ]
  },
  {
   "cell_type": "code",
   "execution_count": 19,
   "metadata": {
    "collapsed": false
   },
   "outputs": [
    {
     "name": "stdout",
     "output_type": "stream",
     "text": [
      "[(1, u'Beverages', u'Soft drinks, coffees, teas, beers, and ales', <read-write buffer ptr 0x16e3040, size 10151 at 0x16e3000>), (2, u'Condiments', u'Sweet and savory sauces, relishes, spreads, and seasonings', <read-write buffer ptr 0x16ea0e0, size 12107 at 0x16ea0a0>), (3, u'Confections', u'Desserts, candies, and sweet breads', <read-write buffer ptr 0x16f0d40, size 12007 at 0x16f0d00>), (4, u'Dairy Products', u'Cheeses', <read-write buffer ptr 0x16f6f10, size 9756 at 0x16f6ed0>), (5, u'Grains/Cereals', u'Breads, crackers, pasta, and cereal', <read-write buffer ptr 0x16fd430, size 12131 at 0x16fd3f0>), (6, u'Meat/Poultry', u'Prepared meats', <read-write buffer ptr 0x17040a0, size 11280 at 0x1704060>), (7, u'Produce', u'Dried fruit and bean curd', <read-write buffer ptr 0x170ac80, size 12338 at 0x170ac40>), (8, u'Seafood', u'Seaweed and fish', <read-write buffer ptr 0x17119c0, size 12069 at 0x1711980>)]\n"
     ]
    }
   ],
   "source": [
    "c.execute(\"SELECT * FROM Categories\")\n",
    "print(c.fetchall())"
   ]
  },
  {
   "cell_type": "code",
   "execution_count": 22,
   "metadata": {
    "collapsed": false
   },
   "outputs": [
    {
     "name": "stdout",
     "output_type": "stream",
     "text": [
      "(1, u'Beverages', u'Soft drinks, coffees, teas, beers, and ales', <read-write buffer ptr 0x16f0d40, size 10151 at 0x16f0d00>)\n",
      "(2, u'Condiments', u'Sweet and savory sauces, relishes, spreads, and seasonings', <read-write buffer ptr 0x170ac80, size 12107 at 0x170ac40>)\n",
      "(3, u'Confections', u'Desserts, candies, and sweet breads', <read-write buffer ptr 0x16ea0e0, size 12007 at 0x16ea0a0>)\n",
      "(4, u'Dairy Products', u'Cheeses', <read-write buffer ptr 0x16e3040, size 9756 at 0x16e3000>)\n",
      "(5, u'Grains/Cereals', u'Breads, crackers, pasta, and cereal', <read-write buffer ptr 0x170ac80, size 12131 at 0x170ac40>)\n",
      "(6, u'Meat/Poultry', u'Prepared meats', <read-write buffer ptr 0x16f0d40, size 11280 at 0x16f0d00>)\n",
      "(7, u'Produce', u'Dried fruit and bean curd', <read-write buffer ptr 0x17119c0, size 12338 at 0x1711980>)\n",
      "(8, u'Seafood', u'Seaweed and fish', <read-write buffer ptr 0x16ea0e0, size 12069 at 0x16ea0a0>)\n"
     ]
    }
   ],
   "source": [
    "# or doing it in rows\n",
    "for row in c.execute('SELECT * FROM Categories'):\n",
    "        print row"
   ]
  },
  {
   "cell_type": "markdown",
   "metadata": {},
   "source": [
    "# Exercise 5.1b"
   ]
  },
  {
   "cell_type": "code",
   "execution_count": null,
   "metadata": {
    "collapsed": true
   },
   "outputs": [],
   "source": []
  }
 ],
 "metadata": {
  "kernelspec": {
   "display_name": "Python 2",
   "language": "python",
   "name": "python2"
  },
  "language_info": {
   "codemirror_mode": {
    "name": "ipython",
    "version": 2
   },
   "file_extension": ".py",
   "mimetype": "text/x-python",
   "name": "python",
   "nbconvert_exporter": "python",
   "pygments_lexer": "ipython2",
   "version": "2.7.9"
  }
 },
 "nbformat": 4,
 "nbformat_minor": 0
}
